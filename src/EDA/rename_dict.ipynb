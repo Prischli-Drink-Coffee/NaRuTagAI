{
 "cells": [
  {
   "cell_type": "code",
   "execution_count": 38,
   "metadata": {},
   "outputs": [],
   "source": [
    "import pandas as pd\n",
    "import numpy as np"
   ]
  },
  {
   "cell_type": "code",
   "execution_count": 198,
   "metadata": {},
   "outputs": [
    {
     "name": "stdout",
     "output_type": "stream",
     "text": [
      "Данные загружены.\n",
      "Очистка данных завершена.\n",
      "Обновление тегов завершено.\n",
      "Результаты сохранены в metadata_renamed.csv.\n"
     ]
    }
   ],
   "source": [
    "class DataFrameProcessor:\n",
    "    def __init__(self, changing_cats_path, categories_for_extraction_path, output_path):\n",
    "        self.changing_cats_path = changing_cats_path\n",
    "        self.categories_for_extraction_path = categories_for_extraction_path\n",
    "        self.output_path = output_path\n",
    "        self.changing_cats = None\n",
    "        self.categories_for_extraction = None\n",
    "\n",
    "    def load_data(self):\n",
    "        \"\"\"Загрузка данных из CSV файлов.\"\"\"\n",
    "        try:\n",
    "            self.changing_cats = pd.read_csv(self.changing_cats_path)\n",
    "            self.categories_for_extraction = pd.read_csv(self.categories_for_extraction_path)\n",
    "            print(\"Данные загружены.\")\n",
    "        except Exception as e:\n",
    "            print(f\"Ошибка при загрузке данных: {e}\")\n",
    "\n",
    "    def clean_data(self):\n",
    "        \"\"\"Очистка данных.\"\"\"\n",
    "        try:\n",
    "            # Удаление ненужных столбцов, если они существуют\n",
    "            cols_to_drop = [\"Unnamed: 3\", \"Unnamed: 4\", \"Unnamed: 5\"]\n",
    "            self.changing_cats.drop(columns=[col for col in cols_to_drop if col in self.changing_cats.columns], inplace=True)\n",
    "\n",
    "            # Удаление строк с ненужными категориями\n",
    "            unwanted_categories = [\"Юмор\", \"Разное\"]\n",
    "            self.changing_cats = self.changing_cats[~self.changing_cats['Ours'].isin(unwanted_categories)]\n",
    "            self.categories_for_extraction = self.categories_for_extraction[~self.categories_for_extraction['category'].isin(unwanted_categories)]\n",
    "\n",
    "            print(\"Очистка данных завершена.\")\n",
    "        except KeyError as e:\n",
    "            print(f\"Ошибка: Не удается найти столбец: {e}\")\n",
    "\n",
    "    def update_tags(self):\n",
    "        \"\"\"Обновление тегов на основе категории.\"\"\"\n",
    "        try:\n",
    "            # Создание словарей для замены категорий и тегов\n",
    "            category_to_dict = self.changing_cats.set_index('Ours')['Rutube lvl0'].to_dict()\n",
    "            tag_to_dict = self.changing_cats.set_index('Ours')['Tag'].to_dict()\n",
    "\n",
    "            # Обработка категории \"Охота и рыбалка\"\n",
    "            mask = self.categories_for_extraction['category'] == \"Охота и рыбалка\"\n",
    "            \n",
    "            # Только строки с категорией \"Охота и рыбалка\" изменяем на \"Спорт\" и добавляем тег \"Рыбалка\"\n",
    "            self.categories_for_extraction.loc[mask, 'category'] = \"Спорт\"\n",
    "            self.categories_for_extraction.loc[mask, 'tag'] = \"Рыбалка\"\n",
    "\n",
    "            # Использование map() для замены категорий и тегов на основе словарей\n",
    "            self.categories_for_extraction['category'] = self.categories_for_extraction['category'].map(\n",
    "                category_to_dict).fillna(self.categories_for_extraction['category'])\n",
    "            self.categories_for_extraction['tag'] = self.categories_for_extraction['category'].map(\n",
    "                tag_to_dict).fillna(self.categories_for_extraction['tag'])\n",
    "\n",
    "            print(\"Обновление тегов завершено.\")\n",
    "        except Exception as e:\n",
    "            print(f\"Ошибка при обновлении тегов: {e}\")\n",
    "\n",
    "    def save_to_csv(self):\n",
    "        \"\"\"Сохранение итогового DataFrame в CSV файл.\"\"\"\n",
    "        try:\n",
    "            self.categories_for_extraction.to_csv(self.output_path, index=False, encoding='utf-8')\n",
    "            print(f\"Результаты сохранены в {self.output_path}.\")\n",
    "        except Exception as e:\n",
    "            print(f\"Ошибка при сохранении файла: {е}\")\n",
    "\n",
    "    def process(self):\n",
    "        \"\"\"Основной метод для выполнения всех этапов.\"\"\"\n",
    "        self.load_data()\n",
    "        self.clean_data()\n",
    "        self.update_tags()\n",
    "        self.save_to_csv()\n",
    "        self.categories_for_extraction\n",
    "\n",
    "# Параметры для инициализации класса\n",
    "changing_cats_path = \"/root/EDA/rutube - refactor.csv\"\n",
    "categories_for_extraction_path = \"/root/EDA/metadata.csv\"\n",
    "output_path = \"metadata_renamed.csv\"\n",
    "\n",
    "# Создание и запуск экземпляра класса\n",
    "processor = DataFrameProcessor(changing_cats_path, categories_for_extraction_path, output_path)\n",
    "processor.process()\n"
   ]
  },
  {
   "cell_type": "code",
   "execution_count": 201,
   "metadata": {},
   "outputs": [
    {
     "name": "stdout",
     "output_type": "stream",
     "text": [
      "<class 'pandas.core.frame.DataFrame'>\n",
      "RangeIndex: 7220 entries, 0 to 7219\n",
      "Data columns (total 5 columns):\n",
      " #   Column       Non-Null Count  Dtype \n",
      "---  ------       --------------  ----- \n",
      " 0   video_id     7220 non-null   object\n",
      " 1   category     7220 non-null   object\n",
      " 2   tag          7220 non-null   object\n",
      " 3   title        7220 non-null   object\n",
      " 4   description  6817 non-null   object\n",
      "dtypes: object(5)\n",
      "memory usage: 282.2+ KB\n"
     ]
    }
   ],
   "source": [
    "categories_for_extraction_path = \"/root/EDA/metadata_renamed.csv\"\n",
    "df = pd.read_csv(categories_for_extraction_path)\n",
    "df.info()"
   ]
  },
  {
   "cell_type": "code",
   "execution_count": null,
   "metadata": {},
   "outputs": [],
   "source": []
  }
 ],
 "metadata": {
  "kernelspec": {
   "display_name": "eda",
   "language": "python",
   "name": "python3"
  },
  "language_info": {
   "codemirror_mode": {
    "name": "ipython",
    "version": 3
   },
   "file_extension": ".py",
   "mimetype": "text/x-python",
   "name": "python",
   "nbconvert_exporter": "python",
   "pygments_lexer": "ipython3",
   "version": "3.12.5"
  }
 },
 "nbformat": 4,
 "nbformat_minor": 2
}
